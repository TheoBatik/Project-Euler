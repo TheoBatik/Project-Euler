{
 "cells": [
  {
   "cell_type": "markdown",
   "metadata": {},
   "source": [
    "## Problem 11\n",
    "Greatest product of four adjacent numbers in a 20x20 grid"
   ]
  },
  {
   "cell_type": "code",
   "execution_count": 1,
   "metadata": {},
   "outputs": [],
   "source": [
    "import numpy as np"
   ]
  },
  {
   "cell_type": "code",
   "execution_count": 2,
   "metadata": {},
   "outputs": [],
   "source": [
    "grid = []"
   ]
  },
  {
   "cell_type": "code",
   "execution_count": 10,
   "metadata": {},
   "outputs": [],
   "source": [
    "\n",
    "f = open('Problem11.txt', 'r') # file name and code must be in the same directory \n",
    "\n",
    "for line in f:\n",
    "    #line = line.strip() # This removes any whitespace in each line\n",
    "    row = line.split(' ')\n",
    "    float_row = [float(string) for string in row]\n",
    "    grid.append(float_row)"
   ]
  },
  {
   "cell_type": "code",
   "execution_count": 12,
   "metadata": {},
   "outputs": [
    {
     "name": "stdout",
     "output_type": "stream",
     "text": [
      "largest_product = 70600674.0\n"
     ]
    }
   ],
   "source": [
    "# Loop through the grid to extract the largest product for each configuration\n",
    "len_product = 4\n",
    "largest_product = 1\n",
    "# left/right\n",
    "y = 0 # latitude \n",
    "while y < 20:\n",
    "    x = 0 #longitude \n",
    "    #print('y', y)\n",
    "    while x < 20: #and y < 20:\n",
    "        #print('x',x)\n",
    "        product_h = 1 # Horizontal Product\n",
    "        product_diag1 = 1 # Diag Product 1: 2-o-clock / North-East\n",
    "        product_diag2 = 1 # Diag Product 2: 11-o-clock / North-West\n",
    "        product_v = 1 # Vertical Product \n",
    "        for j in range(0, len_product):\n",
    "            #print('j =', j)\n",
    "            if x >= 3:\n",
    "                product_h *= grid[y][x-j]\n",
    "            if x >= 3 and y <= 16: \n",
    "                product_diag1 *= grid[y+j][x-j]\n",
    "            if x <= 16 and y <= 16:\n",
    "                product_diag2 *= grid[y+j][x+j]\n",
    "            if y >= 3: \n",
    "                product_v *= grid[y-j][x]\n",
    "        max_product = max(product_h, product_diag1, product_diag2, product_v)        \n",
    "        if max_product > largest_product:\n",
    "            largest_product = max_product\n",
    "            \n",
    "        x += 1\n",
    "    y += 1\n",
    "\n",
    "print('largest_product =', largest_product)                 \n",
    "            \n"
   ]
  },
  {
   "cell_type": "code",
   "execution_count": null,
   "metadata": {},
   "outputs": [],
   "source": []
  },
  {
   "cell_type": "code",
   "execution_count": null,
   "metadata": {},
   "outputs": [],
   "source": []
  },
  {
   "cell_type": "code",
   "execution_count": null,
   "metadata": {},
   "outputs": [],
   "source": []
  }
 ],
 "metadata": {
  "kernelspec": {
   "display_name": "Python 3",
   "language": "python",
   "name": "python3"
  },
  "language_info": {
   "codemirror_mode": {
    "name": "ipython",
    "version": 3
   },
   "file_extension": ".py",
   "mimetype": "text/x-python",
   "name": "python",
   "nbconvert_exporter": "python",
   "pygments_lexer": "ipython3",
   "version": "3.7.4"
  }
 },
 "nbformat": 4,
 "nbformat_minor": 2
}
