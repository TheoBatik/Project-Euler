{
 "cells": [
  {
   "cell_type": "markdown",
   "metadata": {},
   "source": [
    "## Problem 12 \n",
    "Highly divisible triangular number. https://projecteuler.net/problem=12 . \n",
    "What is the value of the first triangle number to have over five hundred divisors?"
   ]
  },
  {
   "cell_type": "markdown",
   "metadata": {},
   "source": [
    "## structure:\n",
    "* define num_factors function \n",
    "* find clever place to start checking for num factors: +500 divisors => \n",
    "tri_num = 1\n",
    "fac_check_start = 1*2*3*...*500\n",
    "i = 2\n",
    "\n",
    "while num_fac_under_500 = True:\n",
    "    tri_num += i \n",
    "    i += 1\n",
    "    if tri_num > fac_check_start:\n",
    "        if num_factors(tri_num) > 500:\n",
    "            num_fac_under_500 = False\n",
    "print(i)\n",
    "    "
   ]
  },
  {
   "cell_type": "code",
   "execution_count": 39,
   "metadata": {},
   "outputs": [],
   "source": [
    "import time, math\n",
    "# def num_factors(n): # too archaic...  \n",
    "#     x = 2 # includes 1 and n\n",
    "#     for q in range(2, n):\n",
    "#         if n % q == 0:\n",
    "#             x += 1\n",
    "#     return x\n",
    "# #num_factors(700000000)\n",
    "\n",
    "# count_divisors(700000000000000) = 450 there... (of course, )\n",
    "start = time.time()\n",
    "# function to count the divisors https://www.geeksforgeeks.org/count-divisors-n-on13/ \n",
    "def count_divisors(n) : \n",
    "    cnt = 0\n",
    "    for i in range(1, (int)(math.sqrt(n)) + 1) : \n",
    "        if (n % i == 0) : \n",
    "              \n",
    "            # If divisors are equal, \n",
    "            # count only one \n",
    "            if (n / i == i) : \n",
    "                cnt = cnt + 1\n",
    "            else : # Otherwise count both \n",
    "                cnt = cnt + 2     \n",
    "    return cnt\n"
   ]
  },
  {
   "cell_type": "code",
   "execution_count": 40,
   "metadata": {},
   "outputs": [],
   "source": [
    "# count_divisors(700000000000000) = 450 there... (of course, it could be a lower number... )\n",
    "\n",
    "tri_num = 1 # the first tri number in the sequences of tri numbers\n",
    "i = 2 \n",
    "fac_check_start = 8000 # when to start checking the number of factors: play around with num_factors function \n",
    "ub = 500 #upper bound\n",
    "num_fac_under_ub = True "
   ]
  },
  {
   "cell_type": "code",
   "execution_count": 41,
   "metadata": {},
   "outputs": [
    {
     "name": "stdout",
     "output_type": "stream",
     "text": [
      "Time elapsed = 5.994261980056763\n",
      "tri num 76576500\n"
     ]
    }
   ],
   "source": [
    "\n",
    "while num_fac_under_ub:\n",
    "    #print('i =', i)\n",
    "    tri_num += i \n",
    "    i += 1\n",
    "    if tri_num > fac_check_start:\n",
    "        if count_divisors(tri_num) > 500:\n",
    "            num_fac_under_ub = False\n",
    "end = time.time()\n",
    "print('Time elapsed =', end - start)\n",
    "print('tri num', tri_num)    \n",
    "     \n"
   ]
  },
  {
   "cell_type": "code",
   "execution_count": 42,
   "metadata": {},
   "outputs": [],
   "source": [
    "# Triangle Number using the reduce() function + lambda expression \n",
    "# from functools import reduce\n",
    "# lst = [i for i in range(1, 8)]\n",
    "# def tri(x,y):\n",
    "#     return x+y\n",
    "#reduce(tri, lst)\n",
    "#reduce(lambda x,y: x+y,lst)"
   ]
  },
  {
   "cell_type": "code",
   "execution_count": 43,
   "metadata": {},
   "outputs": [],
   "source": [
    "# Generating Factors\n",
    "# def divisorGen(n):\n",
    "#     factors = list(factorGenerator(n))\n",
    "#     nfactors = len(factors)\n",
    "#     f = [0] * nfactors\n",
    "#     while True:\n",
    "#         yield reduce(lambda x, y: x*y, [factors[x][0]**f[x] for x in range(nfactors)], 1)\n",
    "#         i = 0\n",
    "#         while True:\n",
    "#             f[i] += 1\n",
    "#             if f[i] <= factors[i][1]:\n",
    "#                 break\n",
    "#             f[i] = 0\n",
    "#             i += 1\n",
    "#             if i >= nfactors:\n",
    "#                 return\n",
    "\n"
   ]
  },
  {
   "cell_type": "code",
   "execution_count": 44,
   "metadata": {},
   "outputs": [],
   "source": [
    "# Graphing number verus number of factors\n",
    "# import matplotlib.pyplot as plt\n",
    "# ub = 50000\n",
    "# naturals = [i for i in range(1, ub, 2)]\n",
    "# num_factors = [count_divisors(i) for i in naturals]\n",
    "# plt.plot(naturals, num_factors, 'o', ms = 0.5)"
   ]
  },
  {
   "cell_type": "code",
   "execution_count": 46,
   "metadata": {},
   "outputs": [
    {
     "ename": "TypeError",
     "evalue": "object of type 'filter' has no len()",
     "output_type": "error",
     "traceback": [
      "\u001b[1;31m---------------------------------------------------------------------------\u001b[0m",
      "\u001b[1;31mTypeError\u001b[0m                                 Traceback (most recent call last)",
      "\u001b[1;32m<ipython-input-46-6441075cec3c>\u001b[0m in \u001b[0;36m<module>\u001b[1;34m\u001b[0m\n\u001b[0;32m     10\u001b[0m     \u001b[1;32mreturn\u001b[0m\u001b[1;33m(\u001b[0m\u001b[0mcount\u001b[0m\u001b[1;33m)\u001b[0m\u001b[1;33m\u001b[0m\u001b[1;33m\u001b[0m\u001b[0m\n\u001b[0;32m     11\u001b[0m \u001b[0mn\u001b[0m \u001b[1;33m=\u001b[0m \u001b[1;33m[\u001b[0m\u001b[1;36m0\u001b[0m \u001b[1;32mfor\u001b[0m \u001b[0ma\u001b[0m \u001b[1;32min\u001b[0m \u001b[0mrange\u001b[0m\u001b[1;33m(\u001b[0m\u001b[1;36m3\u001b[0m\u001b[1;33m)\u001b[0m\u001b[1;33m]\u001b[0m\u001b[1;33m\u001b[0m\u001b[1;33m\u001b[0m\u001b[0m\n\u001b[1;32m---> 12\u001b[1;33m \u001b[0mn\u001b[0m\u001b[1;33m[\u001b[0m\u001b[1;36m2\u001b[0m\u001b[1;33m]\u001b[0m \u001b[1;33m=\u001b[0m \u001b[0mnofactors2\u001b[0m\u001b[1;33m(\u001b[0m\u001b[1;36m22\u001b[0m\u001b[1;33m/\u001b[0m\u001b[1;36m2\u001b[0m\u001b[1;33m)\u001b[0m\u001b[1;33m\u001b[0m\u001b[1;33m\u001b[0m\u001b[0m\n\u001b[0m\u001b[0;32m     13\u001b[0m \u001b[0mm\u001b[0m \u001b[1;33m=\u001b[0m \u001b[1;36m1\u001b[0m\u001b[1;33m\u001b[0m\u001b[1;33m\u001b[0m\u001b[0m\n\u001b[0;32m     14\u001b[0m \u001b[1;32mfor\u001b[0m \u001b[0ma\u001b[0m \u001b[1;32min\u001b[0m \u001b[0mrange\u001b[0m\u001b[1;33m(\u001b[0m\u001b[1;36m22\u001b[0m\u001b[1;33m,\u001b[0m\u001b[1;33m(\u001b[0m\u001b[1;36m10\u001b[0m\u001b[1;33m**\u001b[0m\u001b[1;36m5\u001b[0m\u001b[1;33m)\u001b[0m\u001b[1;33m-\u001b[0m\u001b[1;36m1\u001b[0m\u001b[1;33m,\u001b[0m\u001b[1;36m2\u001b[0m\u001b[1;33m)\u001b[0m\u001b[1;33m:\u001b[0m\u001b[1;33m\u001b[0m\u001b[1;33m\u001b[0m\u001b[0m\n",
      "\u001b[1;32m<ipython-input-46-6441075cec3c>\u001b[0m in \u001b[0;36mnofactors2\u001b[1;34m(num)\u001b[0m\n\u001b[0;32m      7\u001b[0m     \u001b[1;32mif\u001b[0m \u001b[0mx\u001b[0m \u001b[1;33m-\u001b[0m \u001b[0my\u001b[0m \u001b[1;33m==\u001b[0m \u001b[1;36m0\u001b[0m\u001b[1;33m:\u001b[0m\u001b[1;33m\u001b[0m\u001b[1;33m\u001b[0m\u001b[0m\n\u001b[0;32m      8\u001b[0m         \u001b[0mcount\u001b[0m \u001b[1;33m=\u001b[0m \u001b[1;36m1\u001b[0m\u001b[1;33m\u001b[0m\u001b[1;33m\u001b[0m\u001b[0m\n\u001b[1;32m----> 9\u001b[1;33m     \u001b[0mcount\u001b[0m \u001b[1;33m+=\u001b[0m \u001b[1;36m2\u001b[0m\u001b[1;33m*\u001b[0m\u001b[0mlen\u001b[0m\u001b[1;33m(\u001b[0m\u001b[0mfilter\u001b[0m\u001b[1;33m(\u001b[0m\u001b[1;32mlambda\u001b[0m \u001b[0ma\u001b[0m\u001b[1;33m:\u001b[0m\u001b[0mnum\u001b[0m \u001b[1;33m%\u001b[0m \u001b[0ma\u001b[0m \u001b[1;33m==\u001b[0m\u001b[1;36m0\u001b[0m\u001b[1;33m,\u001b[0m\u001b[0mrange\u001b[0m\u001b[1;33m(\u001b[0m\u001b[1;36m1\u001b[0m\u001b[1;33m,\u001b[0m\u001b[0my\u001b[0m\u001b[1;33m)\u001b[0m\u001b[1;33m)\u001b[0m\u001b[1;33m)\u001b[0m\u001b[1;33m\u001b[0m\u001b[1;33m\u001b[0m\u001b[0m\n\u001b[0m\u001b[0;32m     10\u001b[0m     \u001b[1;32mreturn\u001b[0m\u001b[1;33m(\u001b[0m\u001b[0mcount\u001b[0m\u001b[1;33m)\u001b[0m\u001b[1;33m\u001b[0m\u001b[1;33m\u001b[0m\u001b[0m\n\u001b[0;32m     11\u001b[0m \u001b[0mn\u001b[0m \u001b[1;33m=\u001b[0m \u001b[1;33m[\u001b[0m\u001b[1;36m0\u001b[0m \u001b[1;32mfor\u001b[0m \u001b[0ma\u001b[0m \u001b[1;32min\u001b[0m \u001b[0mrange\u001b[0m\u001b[1;33m(\u001b[0m\u001b[1;36m3\u001b[0m\u001b[1;33m)\u001b[0m\u001b[1;33m]\u001b[0m\u001b[1;33m\u001b[0m\u001b[1;33m\u001b[0m\u001b[0m\n",
      "\u001b[1;31mTypeError\u001b[0m: object of type 'filter' has no len()"
     ]
    }
   ],
   "source": [
    "# Other solutions https://projecteuler.net/thread=12;page=2\n",
    "ti = time.time() \n",
    "def nofactors2(num):\n",
    "    count = 0\n",
    "    x = math.sqrt(num)\n",
    "    y = int(math.ceil(x))\n",
    "    if x - y == 0:\n",
    "        count = 1\n",
    "    count += 2*len(filter(lambda a:num % a ==0,range(1,y)))    \n",
    "    return(count)\n",
    "n = [0 for a in range(3)]\n",
    "n[2] = nofactors2(22/2)\n",
    "m = 1\n",
    "for a in range(22,(10**5)-1,2):\n",
    "    n = [n[2],nofactors2(a+1),nofactors2((a+2)/2)]\n",
    "    m = max(m,n[0]*n[1]-1,n[1]*n[2]-1)\n",
    "    if m > 500:\n",
    "        break\n",
    "print (m,a)   \n",
    "print (\"Time taken(secs):\", time.time() - ti)"
   ]
  },
  {
   "cell_type": "code",
   "execution_count": null,
   "metadata": {},
   "outputs": [],
   "source": []
  }
 ],
 "metadata": {
  "kernelspec": {
   "display_name": "Python 3",
   "language": "python",
   "name": "python3"
  },
  "language_info": {
   "codemirror_mode": {
    "name": "ipython",
    "version": 3
   },
   "file_extension": ".py",
   "mimetype": "text/x-python",
   "name": "python",
   "nbconvert_exporter": "python",
   "pygments_lexer": "ipython3",
   "version": "3.7.4"
  }
 },
 "nbformat": 4,
 "nbformat_minor": 2
}
