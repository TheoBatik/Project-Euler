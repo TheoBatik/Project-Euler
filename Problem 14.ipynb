{
 "cells": [
  {
   "cell_type": "markdown",
   "metadata": {},
   "source": [
    "## Problem 14 Longest Collatz sequence\n",
    "Which starting number, under one million, produces the longest chain?\n",
    "\n",
    "Things we need:\n",
    "* Function that generaties sequences elements (internal) \n",
    "* and returns the number of elements \n",
    "* Find a clever place to start counting lengths of chains \n",
    "* Loop from this number to 2 million \n"
   ]
  },
  {
   "cell_type": "code",
   "execution_count": 1,
   "metadata": {},
   "outputs": [],
   "source": [
    "# def len_chain(n)\n",
    "# Determine clever place to start n\n",
    "# max_len = 0\n",
    "\n",
    "# Loop while n < 2 mil:\n",
    "    # len_chain_n = len_chain(n)\n",
    "    # if len_chain_n > max_len:\n",
    "        # max_len = len_chain_n\n",
    "    # n += 2 (keep it odd)"
   ]
  },
  {
   "cell_type": "code",
   "execution_count": 2,
   "metadata": {},
   "outputs": [],
   "source": [
    "def len_chain(n):\n",
    "    length = 1\n",
    "    while n != 1: \n",
    "        if n%2 == 0:\n",
    "            n = n/2\n",
    "            length += 1\n",
    "        else: \n",
    "            n = 3*n + 1\n",
    "            length += 1\n",
    "    return(length)"
   ]
  },
  {
   "cell_type": "code",
   "execution_count": 3,
   "metadata": {},
   "outputs": [],
   "source": [
    "# Gaining insights on the problem: \n",
    "# import matplotlib.pyplot as plt\n",
    "# import numpy as np\n",
    "# z = 1000000\n",
    "# #x1 = np.arange(2, z + 1, 2)\n",
    "# #x2 = np.arange(1, z, 2)\n",
    "\n",
    "# #len_chain_even = [len_chain(i) for i in range(2, z + 1, 2)]\n",
    "# #len_chain_odd = [len_chain(i) for i in range(1, z, 2)]\n",
    "# #print(len(len_chain_even), len(len_chain_odd))\n",
    "# #print( max(len_chain_even), max(len_chain_odd))\n",
    "# # plt.figure()\n",
    "# # plt.plot(x1, len_chain_even, 'o', ms = 2)\n",
    "# # plt.plot(x2, len_chain_odd, 'o', ms = 1)\n",
    "# # plt.figure()\n",
    "# # ub = 5\n",
    "\n",
    "# ratio = [ len_chain(i)/len_chain(i+1) for i in range(1,z, 2)]\n",
    "# # x3 = np.arange(1,z)\n",
    "# # plt.figure()\n",
    "# # plt.plot(  x3, ratio)\n",
    "# #lo = [   ] # largest in odds \n",
    "\n",
    "# count_even = 0\n",
    "# count_odd = 0 \n",
    "\n",
    "\n",
    "# for i in ratio:\n",
    "#     if i > 1:\n",
    "#         count_odd += 1\n",
    "#     else:\n",
    "#         count_even += 1\n",
    "# print(count_odd)\n",
    "# print(count_even)\n",
    "\n",
    "# odd starts  is not more likely to have a longer chain"
   ]
  },
  {
   "cell_type": "code",
   "execution_count": 4,
   "metadata": {},
   "outputs": [
    {
     "name": "stdout",
     "output_type": "stream",
     "text": [
      "837799\n"
     ]
    }
   ],
   "source": [
    "n = 1\n",
    "max_len = 0\n",
    "starting_number = 0\n",
    "while n < 10**6:\n",
    "    len_chain_n = len_chain(n)\n",
    "    if len_chain_n > max_len:\n",
    "        max_len = len_chain_n\n",
    "        starting_number = n\n",
    "    n += 1\n",
    "print(starting_number)\n",
    "    \n",
    "    "
   ]
  },
  {
   "cell_type": "code",
   "execution_count": 7,
   "metadata": {},
   "outputs": [
    {
     "ename": "AttributeError",
     "evalue": "'dict' object has no attribute 'has_key'",
     "output_type": "error",
     "traceback": [
      "\u001b[1;31m---------------------------------------------------------------------------\u001b[0m",
      "\u001b[1;31mAttributeError\u001b[0m                            Traceback (most recent call last)",
      "\u001b[1;32m<ipython-input-7-1c75605ce7a7>\u001b[0m in \u001b[0;36m<module>\u001b[1;34m\u001b[0m\n\u001b[0;32m     11\u001b[0m \u001b[1;33m\u001b[0m\u001b[0m\n\u001b[0;32m     12\u001b[0m \u001b[1;32mfor\u001b[0m \u001b[0mj\u001b[0m \u001b[1;32min\u001b[0m \u001b[0mrange\u001b[0m\u001b[1;33m(\u001b[0m\u001b[1;36m1000000\u001b[0m\u001b[1;33m,\u001b[0m\u001b[1;36m0\u001b[0m\u001b[1;33m,\u001b[0m\u001b[1;33m-\u001b[0m\u001b[1;36m1\u001b[0m\u001b[1;33m)\u001b[0m\u001b[1;33m:\u001b[0m\u001b[1;33m\u001b[0m\u001b[1;33m\u001b[0m\u001b[0m\n\u001b[1;32m---> 13\u001b[1;33m     \u001b[0mCollatz\u001b[0m\u001b[1;33m(\u001b[0m\u001b[0mj\u001b[0m\u001b[1;33m)\u001b[0m\u001b[1;33m\u001b[0m\u001b[1;33m\u001b[0m\u001b[0m\n\u001b[0m\u001b[0;32m     14\u001b[0m \u001b[1;33m\u001b[0m\u001b[0m\n\u001b[0;32m     15\u001b[0m \u001b[0mprint\u001b[0m \u001b[1;33m(\u001b[0m\u001b[0mcollatz\u001b[0m\u001b[1;33m.\u001b[0m\u001b[0mkeys\u001b[0m\u001b[1;33m(\u001b[0m\u001b[1;33m)\u001b[0m\u001b[1;33m[\u001b[0m\u001b[0mcollatz\u001b[0m\u001b[1;33m.\u001b[0m\u001b[0mvalues\u001b[0m\u001b[1;33m(\u001b[0m\u001b[1;33m)\u001b[0m\u001b[1;33m.\u001b[0m\u001b[0mindex\u001b[0m\u001b[1;33m(\u001b[0m\u001b[0mmax\u001b[0m\u001b[1;33m(\u001b[0m\u001b[0mcollatz\u001b[0m\u001b[1;33m.\u001b[0m\u001b[0mvalues\u001b[0m\u001b[1;33m(\u001b[0m\u001b[1;33m)\u001b[0m\u001b[1;33m)\u001b[0m\u001b[1;33m)\u001b[0m\u001b[1;33m]\u001b[0m \u001b[1;33m)\u001b[0m\u001b[1;33m\u001b[0m\u001b[1;33m\u001b[0m\u001b[0m\n",
      "\u001b[1;32m<ipython-input-7-1c75605ce7a7>\u001b[0m in \u001b[0;36mCollatz\u001b[1;34m(n)\u001b[0m\n\u001b[0;32m      3\u001b[0m \u001b[1;32mdef\u001b[0m \u001b[0mCollatz\u001b[0m\u001b[1;33m(\u001b[0m\u001b[0mn\u001b[0m\u001b[1;33m)\u001b[0m\u001b[1;33m:\u001b[0m\u001b[1;33m\u001b[0m\u001b[1;33m\u001b[0m\u001b[0m\n\u001b[0;32m      4\u001b[0m     \u001b[1;32mglobal\u001b[0m \u001b[0mcollatz\u001b[0m\u001b[1;33m\u001b[0m\u001b[1;33m\u001b[0m\u001b[0m\n\u001b[1;32m----> 5\u001b[1;33m     \u001b[1;32mif\u001b[0m \u001b[1;32mnot\u001b[0m \u001b[0mcollatz\u001b[0m\u001b[1;33m.\u001b[0m\u001b[0mhas_key\u001b[0m\u001b[1;33m(\u001b[0m\u001b[0mn\u001b[0m\u001b[1;33m)\u001b[0m\u001b[1;33m:\u001b[0m\u001b[1;33m\u001b[0m\u001b[1;33m\u001b[0m\u001b[0m\n\u001b[0m\u001b[0;32m      6\u001b[0m         \u001b[1;32mif\u001b[0m \u001b[0mn\u001b[0m\u001b[1;33m%\u001b[0m\u001b[1;36m2\u001b[0m \u001b[1;33m==\u001b[0m \u001b[1;36m0\u001b[0m\u001b[1;33m:\u001b[0m\u001b[1;33m\u001b[0m\u001b[1;33m\u001b[0m\u001b[0m\n\u001b[0;32m      7\u001b[0m             \u001b[0mcollatz\u001b[0m\u001b[1;33m[\u001b[0m\u001b[0mn\u001b[0m\u001b[1;33m]\u001b[0m \u001b[1;33m=\u001b[0m \u001b[0mCollatz\u001b[0m\u001b[1;33m(\u001b[0m\u001b[0mn\u001b[0m\u001b[1;33m/\u001b[0m\u001b[1;36m2\u001b[0m\u001b[1;33m)\u001b[0m \u001b[1;33m+\u001b[0m \u001b[1;36m1\u001b[0m\u001b[1;33m\u001b[0m\u001b[1;33m\u001b[0m\u001b[0m\n",
      "\u001b[1;31mAttributeError\u001b[0m: 'dict' object has no attribute 'has_key'"
     ]
    }
   ],
   "source": [
    "# Other solutions: https://projecteuler.net/thread=14;page=2\n",
    "collatz = {1:1}\n",
    "def Collatz(n):\n",
    "    global collatz\n",
    "    if not collatz.has_key(n):\n",
    "        if n%2 == 0:\n",
    "            collatz[n] = Collatz(n/2) + 1\n",
    "        else:\n",
    "            collatz[n] = Collatz(3*n + 1) + 1\n",
    "    return collatz[n]\n",
    "\n",
    "for j in range(1000000,0,-1):\n",
    "    Collatz(j)\n",
    "\n",
    "print (collatz.keys()[collatz.values().index(max(collatz.values()))] )"
   ]
  },
  {
   "cell_type": "code",
   "execution_count": 8,
   "metadata": {},
   "outputs": [
    {
     "data": {
      "text/plain": [
       "(837799, 525)"
      ]
     },
     "execution_count": 8,
     "metadata": {},
     "output_type": "execute_result"
    }
   ],
   "source": [
    "def next(n):\n",
    "    if n % 2:\n",
    "        return 3 * n + 1\n",
    "    else:\n",
    "        return n / 2\n",
    "\n",
    "class ChainCache:\n",
    "    def __init__(self):\n",
    "        self.cache = {}\n",
    "\n",
    "    def __call__(self, n):\n",
    "        if n == 1:\n",
    "            return 1\n",
    "        elif n in self.cache:\n",
    "            return self.cache[n]\n",
    "        else:\n",
    "            c = self.__call__(next(n))\n",
    "            self.cache[n] = c + 1\n",
    "            return c + 1\n",
    "\n",
    "chainlen = ChainCache()\n",
    "\n",
    "def maxlen(x):\n",
    "    m = 0\n",
    "    v = 0\n",
    "    for i in range(1, x):\n",
    "        l = chainlen(i)\n",
    "        if l > m:\n",
    "            m = l\n",
    "            v = i\n",
    "    return v, m\n",
    "\n",
    "maxlen(1000000)"
   ]
  },
  {
   "cell_type": "code",
   "execution_count": null,
   "metadata": {},
   "outputs": [],
   "source": []
  }
 ],
 "metadata": {
  "kernelspec": {
   "display_name": "Python 3",
   "language": "python",
   "name": "python3"
  },
  "language_info": {
   "codemirror_mode": {
    "name": "ipython",
    "version": 3
   },
   "file_extension": ".py",
   "mimetype": "text/x-python",
   "name": "python",
   "nbconvert_exporter": "python",
   "pygments_lexer": "ipython3",
   "version": "3.7.4"
  }
 },
 "nbformat": 4,
 "nbformat_minor": 2
}
