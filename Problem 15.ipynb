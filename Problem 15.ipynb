{
 "cells": [
  {
   "cell_type": "markdown",
   "metadata": {},
   "source": [
    "## Problem 15: lattice paths\n",
    "Finding the number of paths from top left lattice point to bottom right in a 20x20 grid. (downs / rights permitted only)"
   ]
  },
  {
   "cell_type": "code",
   "execution_count": 16,
   "metadata": {},
   "outputs": [
    {
     "name": "stdout",
     "output_type": "stream",
     "text": [
      "137846528820\n",
      "Time 0.10870885848999023\n"
     ]
    }
   ],
   "source": [
    "import math as m\n",
    "import time\n",
    "grid_len = 20 # length of grid\n",
    "# To get from top left to bottom right, we require that (# of downs = # of rights).\n",
    "# Thus, for each path the total number of rights and downs is given by grid_len. \n",
    "# We have reduced the problem to one of simple cobinatorics. \n",
    "start = time.time()\n",
    "number_of_paths = m.factorial(grid_len*2)/(m.factorial(grid_len))**2\n",
    "end = time.time()\n",
    "print(int(number_of_paths))\n",
    "print('Time', end - start)"
   ]
  },
  {
   "cell_type": "code",
   "execution_count": null,
   "metadata": {},
   "outputs": [],
   "source": [
    "\n"
   ]
  },
  {
   "cell_type": "code",
   "execution_count": null,
   "metadata": {},
   "outputs": [],
   "source": []
  }
 ],
 "metadata": {
  "kernelspec": {
   "display_name": "Python 3",
   "language": "python",
   "name": "python3"
  },
  "language_info": {
   "codemirror_mode": {
    "name": "ipython",
    "version": 3
   },
   "file_extension": ".py",
   "mimetype": "text/x-python",
   "name": "python",
   "nbconvert_exporter": "python",
   "pygments_lexer": "ipython3",
   "version": "3.7.4"
  }
 },
 "nbformat": 4,
 "nbformat_minor": 2
}
