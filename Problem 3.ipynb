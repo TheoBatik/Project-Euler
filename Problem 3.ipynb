{
 "cells": [
  {
   "cell_type": "markdown",
   "metadata": {},
   "source": [
    "# Problem 3 \n",
    "The prime factors of 13195 are 5, 7, 13 and 29.\n",
    "\n",
    "What is the largest prime factor of the number 600851475143 ?"
   ]
  },
  {
   "cell_type": "code",
   "execution_count": 1,
   "metadata": {},
   "outputs": [],
   "source": [
    "import numpy as np\n",
    "\n",
    "def check_prime(number):\n",
    "    prime = True\n",
    "    for factor in range(2, int(np.sqrt(number))+1):\n",
    "        if number % factor == 0:\n",
    "            prime = False\n",
    "    return prime \n",
    "# x =  111 #600851475143\n",
    "# check_prime(x)"
   ]
  },
  {
   "cell_type": "code",
   "execution_count": 2,
   "metadata": {},
   "outputs": [],
   "source": [
    "def prime_factors(n):\n",
    "    count2 = 0\n",
    "    primes = {}\n",
    "    \n",
    "    # print the number of 2's that divide n\n",
    "    while n % 2 == 0:\n",
    "        count2 += 1\n",
    "        n = n / 2\n",
    "        primes.update( {2:count2} ) \n",
    "        primes\n",
    "    \n",
    "    # Now, it must be that n is odd. So we can index as i = i + 2\n",
    "    \n",
    "    for i in range(3, int(n) + 1, 2 ):\n",
    "        counti = 0\n",
    "        while n % i == 0:\n",
    "            counti += 1\n",
    "            primes.update( {i:counti})\n",
    "            primes\n",
    "            n = n / i\n",
    "            \n",
    "            \n",
    "    if primes == {}:\n",
    "        return({n:1})\n",
    "    else:\n",
    "        return(primes)\n"
   ]
  },
  {
   "cell_type": "code",
   "execution_count": 3,
   "metadata": {},
   "outputs": [],
   "source": [
    "# x = 600851475143\n",
    "# answer = prime_factors(x)\n",
    "# answer"
   ]
  },
  {
   "cell_type": "code",
   "execution_count": 4,
   "metadata": {},
   "outputs": [],
   "source": [
    "\n",
    "\n",
    "def largest_prime_factor(n):\n",
    "    lpg = 1\n",
    "    \n",
    "    # print the number of 2's that divide n\n",
    "    while n % 2 == 0:\n",
    "        lpf = 2\n",
    "        n = n / 2\n",
    "    \n",
    "    # Now, it must be that n is odd. So we can index as i = i + 2\n",
    "    \n",
    "    for i in range(3, int(n) + 1, 2 ):\n",
    "        \n",
    "        while n % i == 0:\n",
    "            lpf = i\n",
    "            n = n / i\n",
    "    return(lpf)"
   ]
  },
  {
   "cell_type": "code",
   "execution_count": null,
   "metadata": {},
   "outputs": [],
   "source": [
    "x = 600851475143\n",
    "largest_prime_factor(x)"
   ]
  },
  {
   "cell_type": "code",
   "execution_count": null,
   "metadata": {},
   "outputs": [],
   "source": []
  }
 ],
 "metadata": {
  "kernelspec": {
   "display_name": "Python 3",
   "language": "python",
   "name": "python3"
  },
  "language_info": {
   "codemirror_mode": {
    "name": "ipython",
    "version": 3
   },
   "file_extension": ".py",
   "mimetype": "text/x-python",
   "name": "python",
   "nbconvert_exporter": "python",
   "pygments_lexer": "ipython3",
   "version": "3.7.4"
  }
 },
 "nbformat": 4,
 "nbformat_minor": 2
}
