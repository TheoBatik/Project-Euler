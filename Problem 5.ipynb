{
 "cells": [
  {
   "cell_type": "markdown",
   "metadata": {},
   "source": [
    "# Problem 5\n",
    "2520 is the smallest number that can be divided by each of the numbers from 1 to 10 without any remainder.\n",
    "\n",
    "What is the smallest positive number that is evenly divisible by all of the numbers from 1 to 20?"
   ]
  },
  {
   "cell_type": "code",
   "execution_count": 88,
   "metadata": {},
   "outputs": [],
   "source": [
    "import numpy as np"
   ]
  },
  {
   "cell_type": "code",
   "execution_count": null,
   "metadata": {},
   "outputs": [],
   "source": []
  },
  {
   "cell_type": "code",
   "execution_count": 106,
   "metadata": {},
   "outputs": [
    {
     "data": {
      "text/plain": [
       "{2: 2, 5: 1}"
      ]
     },
     "execution_count": 106,
     "metadata": {},
     "output_type": "execute_result"
    }
   ],
   "source": [
    "def check_prime(number):\n",
    "    prime = True\n",
    "    for factor in range(2, int(np.sqrt(number))+1):\n",
    "        if number % factor == 0:\n",
    "            prime = False\n",
    "    return prime \n",
    "\n",
    "def check_div(num, den):\n",
    "    return num % den == 0\n",
    "\n",
    "# def prime_factors(n):\n",
    "#     top = n\n",
    "#     count2 = 0\n",
    "#     counti = 0\n",
    "#     primes = {}\n",
    "    \n",
    "#     # print the number of 2's that divide n\n",
    "#     while n % 2 == 0:\n",
    "#         count2 += 1\n",
    "#         n = n / 2\n",
    "#         primes.update( {2:count2} )    \n",
    "    \n",
    "#     # Now, it must be that n is odd. So we can index as i = i + 2\n",
    "    \n",
    "#     for i in range(3, int(top) + 1): #best place to end range?\n",
    "#         counti = 0\n",
    "#         while n % i == 0:\n",
    "#             counti += 1\n",
    "#             primes.update( {i:counti})\n",
    "#             n = n / i\n",
    "            \n",
    "            \n",
    "#     if primes == {}:\n",
    "#         return({n:1})\n",
    "#     else:\n",
    "#         return(primes)   \n",
    "\n",
    "def prime_factors(n):\n",
    "    top = n\n",
    "    count2 = 0\n",
    "    counti = 0\n",
    "    primes = {}\n",
    "    \n",
    "    # print the number of 2's that divide n\n",
    "    while n % 2 == 0:\n",
    "        count2 += 1\n",
    "        n = n / 2\n",
    "        primes.update( {2:count2} )    \n",
    "    \n",
    "    # Now, it must be that n is odd. So we can index as i = i + 2\n",
    "    \n",
    "    for i in range(3, int(top) + 1): # best place to end range? sqrt(n)?\n",
    "        counti = 0\n",
    "        while n % i == 0:\n",
    "            counti += 1\n",
    "            primes.update( {i:counti})\n",
    "            n = n / i\n",
    "            \n",
    "            \n",
    "    if primes == {}:\n",
    "        return({n:1})\n",
    "    else:\n",
    "        return(primes)    \n",
    "prime_factors(20)"
   ]
  },
  {
   "cell_type": "code",
   "execution_count": 107,
   "metadata": {},
   "outputs": [
    {
     "name": "stdout",
     "output_type": "stream",
     "text": [
      "answer =  232792560\n"
     ]
    }
   ],
   "source": [
    "top = 20\n",
    "keys = []\n",
    "list_prime_factors = [] \n",
    "max_exponent = []\n",
    "#nums = np.arange(1, top + 1)\n",
    "\n",
    "for i in range(2, top + 1):\n",
    "    list_prime_factors.append(  prime_factors(i) )\n",
    "    if check_prime(i):\n",
    "        keys.append(i)\n",
    "        max_exponent.append(1)\n",
    "\n",
    "\n",
    "for dic in list_prime_factors:\n",
    "    #print('dic = ', dic)\n",
    "    for i in range(0, len(keys)):\n",
    "        #print('key =', key)\n",
    "        key = keys[i]\n",
    "        if key in dic.keys() and dic[key] > max_exponent[i]:\n",
    "            max_exponent[i] = dic[key]\n",
    "\n",
    "smallest_num = 1            \n",
    "for i in range(0, len(keys)):\n",
    "    smallest_num *= keys[i]**max_exponent[i]\n",
    "    \n",
    "print('answer = ', smallest_num)\n",
    "#print(keys)\n",
    "#print(max_exponent)              \n"
   ]
  },
  {
   "cell_type": "code",
   "execution_count": 109,
   "metadata": {},
   "outputs": [
    {
     "name": "stdout",
     "output_type": "stream",
     "text": [
      "232792560\n"
     ]
    }
   ],
   "source": [
    "# alternate method\n",
    "i = 1\n",
    "for k in range(1,21):\n",
    "    if i%k > 0:\n",
    "        for j in range(1,21):\n",
    "            if (i*j)%k == 0:\n",
    "                i*= j\n",
    "                break\n",
    "print(i)"
   ]
  },
  {
   "cell_type": "code",
   "execution_count": null,
   "metadata": {},
   "outputs": [],
   "source": []
  },
  {
   "cell_type": "code",
   "execution_count": null,
   "metadata": {},
   "outputs": [],
   "source": []
  },
  {
   "cell_type": "code",
   "execution_count": null,
   "metadata": {},
   "outputs": [],
   "source": []
  },
  {
   "cell_type": "code",
   "execution_count": null,
   "metadata": {},
   "outputs": [],
   "source": [
    "\n"
   ]
  },
  {
   "cell_type": "code",
   "execution_count": null,
   "metadata": {},
   "outputs": [],
   "source": []
  },
  {
   "cell_type": "code",
   "execution_count": null,
   "metadata": {},
   "outputs": [],
   "source": []
  }
 ],
 "metadata": {
  "kernelspec": {
   "display_name": "Python 3",
   "language": "python",
   "name": "python3"
  },
  "language_info": {
   "codemirror_mode": {
    "name": "ipython",
    "version": 3
   },
   "file_extension": ".py",
   "mimetype": "text/x-python",
   "name": "python",
   "nbconvert_exporter": "python",
   "pygments_lexer": "ipython3",
   "version": "3.7.4"
  }
 },
 "nbformat": 4,
 "nbformat_minor": 2
}
