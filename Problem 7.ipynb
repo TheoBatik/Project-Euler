{
 "cells": [
  {
   "cell_type": "markdown",
   "metadata": {},
   "source": [
    "# Problem 7 \n",
    "By listing the first six prime numbers: 2, 3, 5, 7, 11, and 13, we can see that the 6th prime is 13.\n",
    "\n",
    "What is the 10 001st prime number?"
   ]
  },
  {
   "cell_type": "code",
   "execution_count": 35,
   "metadata": {},
   "outputs": [],
   "source": [
    "def check_prime(number):\n",
    "    prime = True\n",
    "    if number == 1 or number == 0:\n",
    "        return False\n",
    "    else:\n",
    "        for factor in range(2, int(number/2)+1):\n",
    "            if number % factor == 0:\n",
    "                prime = False\n",
    "                break\n",
    "        return prime"
   ]
  },
  {
   "cell_type": "code",
   "execution_count": 49,
   "metadata": {},
   "outputs": [],
   "source": [
    "finish = 100\n",
    "number_of_primes = 0 \n",
    "counter = 1\n",
    "prime = 0\n",
    "# primes = []\n",
    "while number_of_primes < finish :\n",
    "    \n",
    "#     print('counter', counter)\n",
    "    if check_prime(counter):\n",
    "        number_of_primes += 1\n",
    "        prime = counter\n",
    "#         primes.append(prime)\n",
    "#     print('number_of_primes', number_of_primes)\n",
    "    counter += 1\n",
    "# print(primes)        "
   ]
  },
  {
   "cell_type": "code",
   "execution_count": 48,
   "metadata": {},
   "outputs": [
    {
     "name": "stdout",
     "output_type": "stream",
     "text": [
      "[1 2 3 4]\n"
     ]
    }
   ],
   "source": [
    "# import matplotlib.pyplot as plt\n",
    "# import numpy as np\n",
    "\n",
    "# x = np.arange(1,5)\n",
    "# print(x)\n",
    "# # plt.plot"
   ]
  },
  {
   "cell_type": "code",
   "execution_count": null,
   "metadata": {},
   "outputs": [],
   "source": []
  }
 ],
 "metadata": {
  "kernelspec": {
   "display_name": "Python 3",
   "language": "python",
   "name": "python3"
  },
  "language_info": {
   "codemirror_mode": {
    "name": "ipython",
    "version": 3
   },
   "file_extension": ".py",
   "mimetype": "text/x-python",
   "name": "python",
   "nbconvert_exporter": "python",
   "pygments_lexer": "ipython3",
   "version": "3.7.4"
  }
 },
 "nbformat": 4,
 "nbformat_minor": 2
}
